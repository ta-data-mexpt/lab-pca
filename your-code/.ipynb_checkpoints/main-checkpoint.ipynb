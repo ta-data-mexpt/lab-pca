{
 "cells": [
  {
   "cell_type": "markdown",
   "metadata": {},
   "source": [
    "# Before your start:\n",
    "- Read the README.md file\n",
    "- Comment as much as you can and use the resources (README.md file)\n",
    "- Happy learning!"
   ]
  },
  {
   "cell_type": "code",
   "execution_count": 1,
   "metadata": {},
   "outputs": [],
   "source": [
    "# Run this code:\n",
    "\n",
    "%matplotlib inline\n",
    "\n",
    "import matplotlib.pyplot as plt"
   ]
  },
  {
   "cell_type": "code",
   "execution_count": 2,
   "metadata": {},
   "outputs": [],
   "source": [
    "# Import numpy and pandas:\n",
    "import numpy as np\n",
    "import pandas as pd"
   ]
  },
  {
   "cell_type": "markdown",
   "metadata": {},
   "source": [
    "# Challenge 1 - Reading and Standardizing the Data\n",
    "\n",
    "In this challenge we will work with image data and reduce the dimensions of the data to create a 2 dimensional plot. While we have not worked much with image data before, it can be represented as a numpy array where each pixel is assigned a numeric value. In this lesson, we will look at a dataset of cats and a dataset of dogs and see whether reducing them to two dimensions allows us to see if the data is separable. We will start by loading and processing the data. Run the cell below to load the two csv files and convert them into numpy arrays."
   ]
  },
  {
   "cell_type": "code",
   "execution_count": 3,
   "metadata": {},
   "outputs": [],
   "source": [
    "# Run this code\n",
    "\n",
    "cats = np.array(pd.read_csv(\"https://raw.githubusercontent.com/bioramble/pca/master/cat.csv\", header=None))\n",
    "dogs = np.array(pd.read_csv(\"https://raw.githubusercontent.com/bioramble/pca/master/dog.csv\", header=None))"
   ]
  },
  {
   "cell_type": "markdown",
   "metadata": {},
   "source": [
    "Next, we'll examine the shape of both the cats and the dogs arrays. Print out both shapes below."
   ]
  },
  {
   "cell_type": "code",
   "execution_count": 5,
   "metadata": {},
   "outputs": [
    {
     "data": {
      "text/plain": [
       "(4096, 80)"
      ]
     },
     "execution_count": 5,
     "metadata": {},
     "output_type": "execute_result"
    }
   ],
   "source": [
    "# Your code here:\n",
    "\n",
    "cats.shape"
   ]
  },
  {
   "cell_type": "code",
   "execution_count": 7,
   "metadata": {},
   "outputs": [
    {
     "data": {
      "text/plain": [
       "(4096, 80)"
      ]
     },
     "execution_count": 7,
     "metadata": {},
     "output_type": "execute_result"
    }
   ],
   "source": [
    "dogs.shape"
   ]
  },
  {
   "cell_type": "code",
   "execution_count": 10,
   "metadata": {},
   "outputs": [
    {
     "data": {
      "text/html": [
       "<div>\n",
       "<style scoped>\n",
       "    .dataframe tbody tr th:only-of-type {\n",
       "        vertical-align: middle;\n",
       "    }\n",
       "\n",
       "    .dataframe tbody tr th {\n",
       "        vertical-align: top;\n",
       "    }\n",
       "\n",
       "    .dataframe thead th {\n",
       "        text-align: right;\n",
       "    }\n",
       "</style>\n",
       "<table border=\"1\" class=\"dataframe\">\n",
       "  <thead>\n",
       "    <tr style=\"text-align: right;\">\n",
       "      <th></th>\n",
       "      <th>0</th>\n",
       "      <th>1</th>\n",
       "      <th>2</th>\n",
       "      <th>3</th>\n",
       "      <th>4</th>\n",
       "      <th>5</th>\n",
       "      <th>6</th>\n",
       "      <th>7</th>\n",
       "      <th>8</th>\n",
       "      <th>9</th>\n",
       "      <th>...</th>\n",
       "      <th>70</th>\n",
       "      <th>71</th>\n",
       "      <th>72</th>\n",
       "      <th>73</th>\n",
       "      <th>74</th>\n",
       "      <th>75</th>\n",
       "      <th>76</th>\n",
       "      <th>77</th>\n",
       "      <th>78</th>\n",
       "      <th>79</th>\n",
       "    </tr>\n",
       "  </thead>\n",
       "  <tbody>\n",
       "    <tr>\n",
       "      <th>0</th>\n",
       "      <td>64</td>\n",
       "      <td>23</td>\n",
       "      <td>250</td>\n",
       "      <td>137</td>\n",
       "      <td>55</td>\n",
       "      <td>173</td>\n",
       "      <td>18</td>\n",
       "      <td>134</td>\n",
       "      <td>19</td>\n",
       "      <td>47</td>\n",
       "      <td>...</td>\n",
       "      <td>122</td>\n",
       "      <td>18</td>\n",
       "      <td>87</td>\n",
       "      <td>106</td>\n",
       "      <td>174</td>\n",
       "      <td>69</td>\n",
       "      <td>28</td>\n",
       "      <td>60</td>\n",
       "      <td>223</td>\n",
       "      <td>101</td>\n",
       "    </tr>\n",
       "    <tr>\n",
       "      <th>1</th>\n",
       "      <td>64</td>\n",
       "      <td>23</td>\n",
       "      <td>250</td>\n",
       "      <td>137</td>\n",
       "      <td>55</td>\n",
       "      <td>173</td>\n",
       "      <td>18</td>\n",
       "      <td>134</td>\n",
       "      <td>19</td>\n",
       "      <td>44</td>\n",
       "      <td>...</td>\n",
       "      <td>118</td>\n",
       "      <td>37</td>\n",
       "      <td>80</td>\n",
       "      <td>99</td>\n",
       "      <td>179</td>\n",
       "      <td>71</td>\n",
       "      <td>32</td>\n",
       "      <td>50</td>\n",
       "      <td>224</td>\n",
       "      <td>107</td>\n",
       "    </tr>\n",
       "    <tr>\n",
       "      <th>2</th>\n",
       "      <td>64</td>\n",
       "      <td>20</td>\n",
       "      <td>250</td>\n",
       "      <td>137</td>\n",
       "      <td>55</td>\n",
       "      <td>173</td>\n",
       "      <td>18</td>\n",
       "      <td>134</td>\n",
       "      <td>19</td>\n",
       "      <td>56</td>\n",
       "      <td>...</td>\n",
       "      <td>77</td>\n",
       "      <td>24</td>\n",
       "      <td>76</td>\n",
       "      <td>57</td>\n",
       "      <td>163</td>\n",
       "      <td>73</td>\n",
       "      <td>28</td>\n",
       "      <td>63</td>\n",
       "      <td>225</td>\n",
       "      <td>106</td>\n",
       "    </tr>\n",
       "    <tr>\n",
       "      <th>3</th>\n",
       "      <td>64</td>\n",
       "      <td>20</td>\n",
       "      <td>244</td>\n",
       "      <td>144</td>\n",
       "      <td>55</td>\n",
       "      <td>173</td>\n",
       "      <td>13</td>\n",
       "      <td>134</td>\n",
       "      <td>19</td>\n",
       "      <td>72</td>\n",
       "      <td>...</td>\n",
       "      <td>109</td>\n",
       "      <td>14</td>\n",
       "      <td>71</td>\n",
       "      <td>32</td>\n",
       "      <td>169</td>\n",
       "      <td>76</td>\n",
       "      <td>38</td>\n",
       "      <td>53</td>\n",
       "      <td>230</td>\n",
       "      <td>105</td>\n",
       "    </tr>\n",
       "    <tr>\n",
       "      <th>4</th>\n",
       "      <td>64</td>\n",
       "      <td>9</td>\n",
       "      <td>244</td>\n",
       "      <td>151</td>\n",
       "      <td>55</td>\n",
       "      <td>158</td>\n",
       "      <td>13</td>\n",
       "      <td>134</td>\n",
       "      <td>19</td>\n",
       "      <td>72</td>\n",
       "      <td>...</td>\n",
       "      <td>139</td>\n",
       "      <td>17</td>\n",
       "      <td>71</td>\n",
       "      <td>106</td>\n",
       "      <td>193</td>\n",
       "      <td>77</td>\n",
       "      <td>22</td>\n",
       "      <td>43</td>\n",
       "      <td>233</td>\n",
       "      <td>110</td>\n",
       "    </tr>\n",
       "    <tr>\n",
       "      <th>...</th>\n",
       "      <td>...</td>\n",
       "      <td>...</td>\n",
       "      <td>...</td>\n",
       "      <td>...</td>\n",
       "      <td>...</td>\n",
       "      <td>...</td>\n",
       "      <td>...</td>\n",
       "      <td>...</td>\n",
       "      <td>...</td>\n",
       "      <td>...</td>\n",
       "      <td>...</td>\n",
       "      <td>...</td>\n",
       "      <td>...</td>\n",
       "      <td>...</td>\n",
       "      <td>...</td>\n",
       "      <td>...</td>\n",
       "      <td>...</td>\n",
       "      <td>...</td>\n",
       "      <td>...</td>\n",
       "      <td>...</td>\n",
       "      <td>...</td>\n",
       "    </tr>\n",
       "    <tr>\n",
       "      <th>4091</th>\n",
       "      <td>77</td>\n",
       "      <td>65</td>\n",
       "      <td>244</td>\n",
       "      <td>78</td>\n",
       "      <td>45</td>\n",
       "      <td>77</td>\n",
       "      <td>70</td>\n",
       "      <td>114</td>\n",
       "      <td>189</td>\n",
       "      <td>179</td>\n",
       "      <td>...</td>\n",
       "      <td>163</td>\n",
       "      <td>148</td>\n",
       "      <td>52</td>\n",
       "      <td>169</td>\n",
       "      <td>32</td>\n",
       "      <td>66</td>\n",
       "      <td>144</td>\n",
       "      <td>94</td>\n",
       "      <td>184</td>\n",
       "      <td>119</td>\n",
       "    </tr>\n",
       "    <tr>\n",
       "      <th>4092</th>\n",
       "      <td>77</td>\n",
       "      <td>51</td>\n",
       "      <td>244</td>\n",
       "      <td>100</td>\n",
       "      <td>45</td>\n",
       "      <td>98</td>\n",
       "      <td>70</td>\n",
       "      <td>114</td>\n",
       "      <td>189</td>\n",
       "      <td>151</td>\n",
       "      <td>...</td>\n",
       "      <td>127</td>\n",
       "      <td>148</td>\n",
       "      <td>84</td>\n",
       "      <td>176</td>\n",
       "      <td>41</td>\n",
       "      <td>65</td>\n",
       "      <td>136</td>\n",
       "      <td>92</td>\n",
       "      <td>180</td>\n",
       "      <td>129</td>\n",
       "    </tr>\n",
       "    <tr>\n",
       "      <th>4093</th>\n",
       "      <td>64</td>\n",
       "      <td>31</td>\n",
       "      <td>244</td>\n",
       "      <td>102</td>\n",
       "      <td>37</td>\n",
       "      <td>64</td>\n",
       "      <td>62</td>\n",
       "      <td>114</td>\n",
       "      <td>189</td>\n",
       "      <td>81</td>\n",
       "      <td>...</td>\n",
       "      <td>146</td>\n",
       "      <td>145</td>\n",
       "      <td>55</td>\n",
       "      <td>190</td>\n",
       "      <td>43</td>\n",
       "      <td>88</td>\n",
       "      <td>141</td>\n",
       "      <td>105</td>\n",
       "      <td>180</td>\n",
       "      <td>114</td>\n",
       "    </tr>\n",
       "    <tr>\n",
       "      <th>4094</th>\n",
       "      <td>64</td>\n",
       "      <td>23</td>\n",
       "      <td>232</td>\n",
       "      <td>124</td>\n",
       "      <td>45</td>\n",
       "      <td>45</td>\n",
       "      <td>62</td>\n",
       "      <td>114</td>\n",
       "      <td>189</td>\n",
       "      <td>44</td>\n",
       "      <td>...</td>\n",
       "      <td>102</td>\n",
       "      <td>153</td>\n",
       "      <td>50</td>\n",
       "      <td>186</td>\n",
       "      <td>37</td>\n",
       "      <td>99</td>\n",
       "      <td>144</td>\n",
       "      <td>118</td>\n",
       "      <td>182</td>\n",
       "      <td>91</td>\n",
       "    </tr>\n",
       "    <tr>\n",
       "      <th>4095</th>\n",
       "      <td>61</td>\n",
       "      <td>9</td>\n",
       "      <td>244</td>\n",
       "      <td>124</td>\n",
       "      <td>52</td>\n",
       "      <td>45</td>\n",
       "      <td>70</td>\n",
       "      <td>114</td>\n",
       "      <td>189</td>\n",
       "      <td>47</td>\n",
       "      <td>...</td>\n",
       "      <td>138</td>\n",
       "      <td>165</td>\n",
       "      <td>65</td>\n",
       "      <td>202</td>\n",
       "      <td>34</td>\n",
       "      <td>66</td>\n",
       "      <td>144</td>\n",
       "      <td>104</td>\n",
       "      <td>177</td>\n",
       "      <td>113</td>\n",
       "    </tr>\n",
       "  </tbody>\n",
       "</table>\n",
       "<p>4096 rows × 80 columns</p>\n",
       "</div>"
      ],
      "text/plain": [
       "      0   1    2    3   4    5   6    7    8    9   ...   70   71  72   73  \\\n",
       "0     64  23  250  137  55  173  18  134   19   47  ...  122   18  87  106   \n",
       "1     64  23  250  137  55  173  18  134   19   44  ...  118   37  80   99   \n",
       "2     64  20  250  137  55  173  18  134   19   56  ...   77   24  76   57   \n",
       "3     64  20  244  144  55  173  13  134   19   72  ...  109   14  71   32   \n",
       "4     64   9  244  151  55  158  13  134   19   72  ...  139   17  71  106   \n",
       "...   ..  ..  ...  ...  ..  ...  ..  ...  ...  ...  ...  ...  ...  ..  ...   \n",
       "4091  77  65  244   78  45   77  70  114  189  179  ...  163  148  52  169   \n",
       "4092  77  51  244  100  45   98  70  114  189  151  ...  127  148  84  176   \n",
       "4093  64  31  244  102  37   64  62  114  189   81  ...  146  145  55  190   \n",
       "4094  64  23  232  124  45   45  62  114  189   44  ...  102  153  50  186   \n",
       "4095  61   9  244  124  52   45  70  114  189   47  ...  138  165  65  202   \n",
       "\n",
       "       74  75   76   77   78   79  \n",
       "0     174  69   28   60  223  101  \n",
       "1     179  71   32   50  224  107  \n",
       "2     163  73   28   63  225  106  \n",
       "3     169  76   38   53  230  105  \n",
       "4     193  77   22   43  233  110  \n",
       "...   ...  ..  ...  ...  ...  ...  \n",
       "4091   32  66  144   94  184  119  \n",
       "4092   41  65  136   92  180  129  \n",
       "4093   43  88  141  105  180  114  \n",
       "4094   37  99  144  118  182   91  \n",
       "4095   34  66  144  104  177  113  \n",
       "\n",
       "[4096 rows x 80 columns]"
      ]
     },
     "execution_count": 10,
     "metadata": {},
     "output_type": "execute_result"
    }
   ],
   "source": [
    "pd.DataFrame(cats)"
   ]
  },
  {
   "cell_type": "markdown",
   "metadata": {},
   "source": [
    "What this means is that both arrays contain 80 images each (the number of columns). Each image is comprised of 64x64 pixels (so a total of 4096 pixels per image). The images have been flattened such that all 4096 are in a single row.\n",
    "\n",
    "Print out column 0 of the cats array to see what the pixels values look like."
   ]
  },
  {
   "cell_type": "code",
   "execution_count": 12,
   "metadata": {},
   "outputs": [
    {
     "data": {
      "text/plain": [
       "0       64\n",
       "1       64\n",
       "2       64\n",
       "3       64\n",
       "4       64\n",
       "        ..\n",
       "4091    77\n",
       "4092    77\n",
       "4093    64\n",
       "4094    64\n",
       "4095    61\n",
       "Name: 0, Length: 4096, dtype: int64"
      ]
     },
     "execution_count": 12,
     "metadata": {},
     "output_type": "execute_result"
    }
   ],
   "source": [
    "# Your code here:\n",
    "\n",
    "pd.DataFrame(cats)[0]"
   ]
  },
  {
   "cell_type": "markdown",
   "metadata": {},
   "source": [
    "Using `matplotlib` we can plot a single cat or a single dog. We do this by reshaping the vector back to a 64x64 image and then using the `imshow` function.\n",
    "\n",
    "Run the code below to look at the first dog and the first cat."
   ]
  },
  {
   "cell_type": "code",
   "execution_count": 13,
   "metadata": {},
   "outputs": [
    {
     "data": {
      "text/plain": [
       "<matplotlib.image.AxesImage at 0x7fe86da88e80>"
      ]
     },
     "execution_count": 13,
     "metadata": {},
     "output_type": "execute_result"
    },
    {
     "data": {
      "image/png": "[encoded data removed]",
      "text/plain": [
       "<Figure size 432x288 with 1 Axes>"
      ]
     },
     "metadata": {
      "needs_background": "light"
     },
     "output_type": "display_data"
    }
   ],
   "source": [
    "# Run this code:\n",
    "\n",
    "fig, ax = plt.subplots()\n",
    "ax.imshow(cats[:,0].reshape(64, 64).T, cmap=plt.cm.bone, interpolation='nearest') "
   ]
  },
  {
   "cell_type": "code",
   "execution_count": 14,
   "metadata": {},
   "outputs": [
    {
     "data": {
      "text/plain": [
       "<matplotlib.image.AxesImage at 0x7fe86dc80970>"
      ]
     },
     "execution_count": 14,
     "metadata": {},
     "output_type": "execute_result"
    },
    {
     "data": {
      "image/png": "[encoded data removed]",
      "text/plain": [
       "<Figure size 432x288 with 1 Axes>"
      ]
     },
     "metadata": {
      "needs_background": "light"
     },
     "output_type": "display_data"
    }
   ],
   "source": [
    "# Run this code:\n",
    "\n",
    "fig, ax = plt.subplots()\n",
    "ax.imshow(dogs[:,0].reshape(64, 64).T, cmap=plt.cm.bone, interpolation='nearest') "
   ]
  },
  {
   "cell_type": "markdown",
   "metadata": {},
   "source": [
    "Next, we would like to create a standardization function. This function will find the mean and standard deviation of each image. We subtract the mean from each pixel and divide each pixel by the standard deviation. Write the function below.\n",
    "\n",
    "Hint: To find the mean and standard deviation of each image, use `numpy`'s version of mean and stadnard deviation and use `axis=0`."
   ]
  },
  {
   "cell_type": "code",
   "execution_count": 15,
   "metadata": {},
   "outputs": [],
   "source": [
    "def standardize(x):\n",
    "    #This function takes as input a numpy array and returns a stadardized numpy array of the same dimensions.\n",
    "    #Sample input: np.array([[1,2,3],[4,5,6]])\n",
    "    #Sample output: np.array([[-1,-1,-1],[1,1,1]])\n",
    "    \n",
    "    # Your code here:\n",
    "    \n",
    "    return (x-x.mean())/x.std()"
   ]
  },
  {
   "cell_type": "markdown",
   "metadata": {},
   "source": [
    "Now, use the `np.concatenate` function to combine the cats and dogs arrays. Use `axis=1` to combine the two correctly. Make sure to put dogs first."
   ]
  },
  {
   "cell_type": "code",
   "execution_count": 23,
   "metadata": {},
   "outputs": [],
   "source": [
    "# Your code here:\n",
    "\n",
    "catdog = np.concatenate((dogs, cats), axis = 1)"
   ]
  },
  {
   "cell_type": "markdown",
   "metadata": {},
   "source": [
    "Standardize the concatenated array below."
   ]
  },
  {
   "cell_type": "code",
   "execution_count": 26,
   "metadata": {},
   "outputs": [
    {
     "data": {
      "text/plain": [
       "array([[ 1.57438352,  0.16697539,  0.10644171, ..., -0.90749748,\n",
       "         1.5592501 , -0.28702723],\n",
       "       [ 1.57438352,  0.06104145,  0.2426425 , ..., -1.05883169,\n",
       "         1.57438352, -0.1962267 ],\n",
       "       [ 1.57438352, -0.24162697,  0.10644171, ..., -0.86209722,\n",
       "         1.58951694, -0.21136013],\n",
       "       ...,\n",
       "       [-0.30216065, -0.24162697, -0.07515934, ..., -0.22649355,\n",
       "         0.90851301, -0.09029276],\n",
       "       [-0.30216065,  0.06104145, -0.24162697, ..., -0.02975908,\n",
       "         0.93877985, -0.43836144],\n",
       "       [-0.30216065,  0.06104145, -0.24162697, ..., -0.24162697,\n",
       "         0.86311275, -0.10542618]])"
      ]
     },
     "execution_count": 26,
     "metadata": {},
     "output_type": "execute_result"
    }
   ],
   "source": [
    "# Your code here:\n",
    "\n",
    "catdog_std = standardize(catdog)\n",
    "catdog_std"
   ]
  },
  {
   "cell_type": "markdown",
   "metadata": {},
   "source": [
    "# Challenge 2 - Using PCA\n",
    "\n",
    "Now that we have created a standardized matrix of cats and dogs, we'll find the two most important components in the data.\n",
    "\n",
    "Load the `PCA` function from `statsmodels` (read about this function [here](https://www.statsmodels.org/dev/generated/statsmodels.multivariate.pca.PCA.html)) and apply the function to our standarized data. Create a PCA model with two components."
   ]
  },
  {
   "cell_type": "code",
   "execution_count": 27,
   "metadata": {},
   "outputs": [
    {
     "data": {
      "text/plain": [
       "(4096, 2)"
      ]
     },
     "execution_count": 27,
     "metadata": {},
     "output_type": "execute_result"
    }
   ],
   "source": [
    "# Your code here:\n",
    "from statsmodels.multivariate.pca import  PCA\n",
    "pc = PCA(catdog_std, ncomp=2)\n",
    "pc.factors.shape"
   ]
  },
  {
   "cell_type": "markdown",
   "metadata": {},
   "source": [
    "Use `numpy` to find to transpose the standardized pet array. This will help us compute the projection."
   ]
  },
  {
   "cell_type": "code",
   "execution_count": 32,
   "metadata": {},
   "outputs": [
    {
     "data": {
      "text/plain": [
       "array([[-0.02977581, -0.03020944, -0.03024206, ..., -0.00529748,\n",
       "        -0.0046119 , -0.00384231],\n",
       "       [ 0.03592827,  0.03486312,  0.03550568, ...,  0.01165574,\n",
       "         0.01141205,  0.01182373]])"
      ]
     },
     "execution_count": 32,
     "metadata": {},
     "output_type": "execute_result"
    }
   ],
   "source": [
    "# Your code here:\n",
    "\n",
    "pc.factors.T"
   ]
  },
  {
   "cell_type": "code",
   "execution_count": 33,
   "metadata": {},
   "outputs": [
    {
     "data": {
      "text/plain": [
       "(2, 4096)"
      ]
     },
     "execution_count": 33,
     "metadata": {},
     "output_type": "execute_result"
    }
   ],
   "source": [
    "pc.factors.T.shape"
   ]
  },
  {
   "cell_type": "markdown",
   "metadata": {},
   "source": [
    "Find the dot product of the transposed standardized pet matrix and the `factors` of the `PCA` model found above. This will be the projection onto 2 dimensions. This means that each cat and dog image will now only have two columns instead of 4096."
   ]
  },
  {
   "cell_type": "code",
   "execution_count": 36,
   "metadata": {},
   "outputs": [
    {
     "data": {
      "text/plain": [
       "(2, 2)"
      ]
     },
     "execution_count": 36,
     "metadata": {},
     "output_type": "execute_result"
    }
   ],
   "source": [
    "# Your code here:\n",
    "\n",
    "np.dot(pc.factors.T,pc.factors).shape"
   ]
  },
  {
   "cell_type": "code",
   "execution_count": 49,
   "metadata": {},
   "outputs": [
    {
     "data": {
      "text/plain": [
       "(4096, 4096)"
      ]
     },
     "execution_count": 49,
     "metadata": {},
     "output_type": "execute_result"
    }
   ],
   "source": [
    "np.dot(pc.factors,pc.factors.T).shape"
   ]
  },
  {
   "cell_type": "code",
   "execution_count": 52,
   "metadata": {},
   "outputs": [
    {
     "data": {
      "text/plain": [
       "(2, 160)"
      ]
     },
     "execution_count": 52,
     "metadata": {},
     "output_type": "execute_result"
    }
   ],
   "source": [
    "np.dot(catdog_std.T,pc.factors).T.shape"
   ]
  },
  {
   "cell_type": "markdown",
   "metadata": {},
   "source": [
    "# Challenge 3 - Plotting the Data\n",
    "\n",
    "Now that we have reduced our cats and dogs arrays, we can easily plot the data in a way that the human eye can understand. We can look at this plot to see whether there are differences between the cat and dog images. \n",
    "\n",
    "In the cell below, turn the two dimensional projection into a pandas dataframe and name the columns `pc1`, and `pc2` respectively."
   ]
  },
  {
   "cell_type": "code",
   "execution_count": 45,
   "metadata": {},
   "outputs": [
    {
     "data": {
      "text/html": [
       "<div>\n",
       "<style scoped>\n",
       "    .dataframe tbody tr th:only-of-type {\n",
       "        vertical-align: middle;\n",
       "    }\n",
       "\n",
       "    .dataframe tbody tr th {\n",
       "        vertical-align: top;\n",
       "    }\n",
       "\n",
       "    .dataframe thead th {\n",
       "        text-align: right;\n",
       "    }\n",
       "</style>\n",
       "<table border=\"1\" class=\"dataframe\">\n",
       "  <thead>\n",
       "    <tr style=\"text-align: right;\">\n",
       "      <th></th>\n",
       "      <th>PC1</th>\n",
       "      <th>PC2</th>\n",
       "    </tr>\n",
       "  </thead>\n",
       "  <tbody>\n",
       "    <tr>\n",
       "      <th>0</th>\n",
       "      <td>-0.029776</td>\n",
       "      <td>0.035928</td>\n",
       "    </tr>\n",
       "    <tr>\n",
       "      <th>1</th>\n",
       "      <td>-0.030209</td>\n",
       "      <td>0.034863</td>\n",
       "    </tr>\n",
       "    <tr>\n",
       "      <th>2</th>\n",
       "      <td>-0.030242</td>\n",
       "      <td>0.035506</td>\n",
       "    </tr>\n",
       "    <tr>\n",
       "      <th>3</th>\n",
       "      <td>-0.030226</td>\n",
       "      <td>0.036113</td>\n",
       "    </tr>\n",
       "    <tr>\n",
       "      <th>4</th>\n",
       "      <td>-0.030860</td>\n",
       "      <td>0.035258</td>\n",
       "    </tr>\n",
       "    <tr>\n",
       "      <th>...</th>\n",
       "      <td>...</td>\n",
       "      <td>...</td>\n",
       "    </tr>\n",
       "    <tr>\n",
       "      <th>4091</th>\n",
       "      <td>-0.003905</td>\n",
       "      <td>0.013684</td>\n",
       "    </tr>\n",
       "    <tr>\n",
       "      <th>4092</th>\n",
       "      <td>-0.004959</td>\n",
       "      <td>0.012651</td>\n",
       "    </tr>\n",
       "    <tr>\n",
       "      <th>4093</th>\n",
       "      <td>-0.005297</td>\n",
       "      <td>0.011656</td>\n",
       "    </tr>\n",
       "    <tr>\n",
       "      <th>4094</th>\n",
       "      <td>-0.004612</td>\n",
       "      <td>0.011412</td>\n",
       "    </tr>\n",
       "    <tr>\n",
       "      <th>4095</th>\n",
       "      <td>-0.003842</td>\n",
       "      <td>0.011824</td>\n",
       "    </tr>\n",
       "  </tbody>\n",
       "</table>\n",
       "<p>4096 rows × 2 columns</p>\n",
       "</div>"
      ],
      "text/plain": [
       "           PC1       PC2\n",
       "0    -0.029776  0.035928\n",
       "1    -0.030209  0.034863\n",
       "2    -0.030242  0.035506\n",
       "3    -0.030226  0.036113\n",
       "4    -0.030860  0.035258\n",
       "...        ...       ...\n",
       "4091 -0.003905  0.013684\n",
       "4092 -0.004959  0.012651\n",
       "4093 -0.005297  0.011656\n",
       "4094 -0.004612  0.011412\n",
       "4095 -0.003842  0.011824\n",
       "\n",
       "[4096 rows x 2 columns]"
      ]
     },
     "execution_count": 45,
     "metadata": {},
     "output_type": "execute_result"
    }
   ],
   "source": [
    "# Your code here:\n",
    "\n",
    "dfcd = pd.DataFrame(pc.factors, columns = ['PC1','PC2'])\n",
    "dfcd"
   ]
  },
  {
   "cell_type": "markdown",
   "metadata": {},
   "source": [
    "Create a labels list. This list will be of size 160. The first 80 elements in the list will be the word `blue`, and the last 80 elements will be `red`. This will ensure that all dog observations will be colored in blue and all cats will be colored in red. Name this list `colors`."
   ]
  },
  {
   "cell_type": "code",
   "execution_count": 48,
   "metadata": {},
   "outputs": [
    {
     "name": "stdout",
     "output_type": "stream",
     "text": [
      "['blue', 'blue', 'blue', 'blue', 'blue', 'blue', 'blue', 'blue', 'blue', 'blue', 'blue', 'blue', 'blue', 'blue', 'blue', 'blue', 'blue', 'blue', 'blue', 'blue', 'blue', 'blue', 'blue', 'blue', 'blue', 'blue', 'blue', 'blue', 'blue', 'blue', 'blue', 'blue', 'blue', 'blue', 'blue', 'blue', 'blue', 'blue', 'blue', 'blue', 'blue', 'blue', 'blue', 'blue', 'blue', 'blue', 'blue', 'blue', 'blue', 'blue', 'blue', 'blue', 'blue', 'blue', 'blue', 'blue', 'blue', 'blue', 'blue', 'blue', 'blue', 'blue', 'blue', 'blue', 'blue', 'blue', 'blue', 'blue', 'blue', 'blue', 'blue', 'blue', 'blue', 'blue', 'blue', 'blue', 'blue', 'blue', 'blue', 'blue', 'red', 'red', 'red', 'red', 'red', 'red', 'red', 'red', 'red', 'red', 'red', 'red', 'red', 'red', 'red', 'red', 'red', 'red', 'red', 'red', 'red', 'red', 'red', 'red', 'red', 'red', 'red', 'red', 'red', 'red', 'red', 'red', 'red', 'red', 'red', 'red', 'red', 'red', 'red', 'red', 'red', 'red', 'red', 'red', 'red', 'red', 'red', 'red', 'red', 'red', 'red', 'red', 'red', 'red', 'red', 'red', 'red', 'red', 'red', 'red', 'red', 'red', 'red', 'red', 'red', 'red', 'red', 'red', 'red', 'red', 'red', 'red', 'red', 'red', 'red', 'red', 'red', 'red', 'red', 'red']\n"
     ]
    }
   ],
   "source": [
    "# Your code here:\n",
    "color=['blue' if i <=80 else 'red' for i in range(1,161)]\n",
    "len(color)\n",
    "print(color)"
   ]
  },
  {
   "cell_type": "markdown",
   "metadata": {},
   "source": [
    "Create a scatter plot of `pc1` and `pc2` below. Use the `colors` list above to color the observations by setting `c=colors`."
   ]
  },
  {
   "cell_type": "code",
   "execution_count": 47,
   "metadata": {},
   "outputs": [
    {
     "data": {
      "text/plain": [
       "<matplotlib.collections.PathCollection at 0x7fe84870c1f0>"
      ]
     },
     "execution_count": 47,
     "metadata": {},
     "output_type": "execute_result"
    },
    {
     "data": {
      "image/png": "[encoded data removed]",
      "text/plain": [
       "<Figure size 432x288 with 1 Axes>"
      ]
     },
     "metadata": {
      "needs_background": "light"
     },
     "output_type": "display_data"
    }
   ],
   "source": [
    "# Your code here:\n",
    "\n",
    "plt.scatter(dfcd.PC1,dfcd.PC2)"
   ]
  },
  {
   "cell_type": "markdown",
   "metadata": {},
   "source": [
    "Do you see a clear separation between cats and dogs? Write your answer below."
   ]
  },
  {
   "cell_type": "code",
   "execution_count": 55,
   "metadata": {},
   "outputs": [
    {
     "data": {
      "text/html": [
       "<div>\n",
       "<style scoped>\n",
       "    .dataframe tbody tr th:only-of-type {\n",
       "        vertical-align: middle;\n",
       "    }\n",
       "\n",
       "    .dataframe tbody tr th {\n",
       "        vertical-align: top;\n",
       "    }\n",
       "\n",
       "    .dataframe thead th {\n",
       "        text-align: right;\n",
       "    }\n",
       "</style>\n",
       "<table border=\"1\" class=\"dataframe\">\n",
       "  <thead>\n",
       "    <tr style=\"text-align: right;\">\n",
       "      <th></th>\n",
       "      <th>PC1</th>\n",
       "      <th>PC2</th>\n",
       "    </tr>\n",
       "  </thead>\n",
       "  <tbody>\n",
       "    <tr>\n",
       "      <th>0</th>\n",
       "      <td>-37.090884</td>\n",
       "      <td>12.851747</td>\n",
       "    </tr>\n",
       "    <tr>\n",
       "      <th>1</th>\n",
       "      <td>-34.982797</td>\n",
       "      <td>-20.938677</td>\n",
       "    </tr>\n",
       "    <tr>\n",
       "      <th>2</th>\n",
       "      <td>7.872708</td>\n",
       "      <td>-10.944940</td>\n",
       "    </tr>\n",
       "    <tr>\n",
       "      <th>3</th>\n",
       "      <td>-3.459042</td>\n",
       "      <td>-22.426382</td>\n",
       "    </tr>\n",
       "    <tr>\n",
       "      <th>4</th>\n",
       "      <td>-24.353896</td>\n",
       "      <td>3.052691</td>\n",
       "    </tr>\n",
       "    <tr>\n",
       "      <th>...</th>\n",
       "      <td>...</td>\n",
       "      <td>...</td>\n",
       "    </tr>\n",
       "    <tr>\n",
       "      <th>155</th>\n",
       "      <td>17.124229</td>\n",
       "      <td>-12.154753</td>\n",
       "    </tr>\n",
       "    <tr>\n",
       "      <th>156</th>\n",
       "      <td>27.573533</td>\n",
       "      <td>-19.827438</td>\n",
       "    </tr>\n",
       "    <tr>\n",
       "      <th>157</th>\n",
       "      <td>26.966099</td>\n",
       "      <td>-7.581877</td>\n",
       "    </tr>\n",
       "    <tr>\n",
       "      <th>158</th>\n",
       "      <td>-14.822258</td>\n",
       "      <td>-3.326542</td>\n",
       "    </tr>\n",
       "    <tr>\n",
       "      <th>159</th>\n",
       "      <td>4.914698</td>\n",
       "      <td>7.873397</td>\n",
       "    </tr>\n",
       "  </tbody>\n",
       "</table>\n",
       "<p>160 rows × 2 columns</p>\n",
       "</div>"
      ],
      "text/plain": [
       "           PC1        PC2\n",
       "0   -37.090884  12.851747\n",
       "1   -34.982797 -20.938677\n",
       "2     7.872708 -10.944940\n",
       "3    -3.459042 -22.426382\n",
       "4   -24.353896   3.052691\n",
       "..         ...        ...\n",
       "155  17.124229 -12.154753\n",
       "156  27.573533 -19.827438\n",
       "157  26.966099  -7.581877\n",
       "158 -14.822258  -3.326542\n",
       "159   4.914698   7.873397\n",
       "\n",
       "[160 rows x 2 columns]"
      ]
     },
     "execution_count": 55,
     "metadata": {},
     "output_type": "execute_result"
    }
   ],
   "source": [
    "np.dot(catdog_std.T,pc.factors).T\n",
    "pet = pd.DataFrame(np.dot(catdog_std.T,pc.factors), columns = ['PC1','PC2'])\n",
    "pet"
   ]
  },
  {
   "cell_type": "code",
   "execution_count": 56,
   "metadata": {},
   "outputs": [
    {
     "data": {
      "image/png": "[encoded data removed]",
      "text/plain": [
       "<Figure size 432x288 with 1 Axes>"
      ]
     },
     "metadata": {
      "needs_background": "light"
     },
     "output_type": "display_data"
    }
   ],
   "source": [
    "plt.scatter(pet.PC1,pet.PC2,c=color)\n",
    "plt.show()"
   ]
  },
  {
   "cell_type": "code",
   "execution_count": 18,
   "metadata": {},
   "outputs": [],
   "source": [
    "# Your conclusions here:\n",
    "# Muy poco se ve la diferencia"
   ]
  }
 ],
 "metadata": {
  "kernelspec": {
   "display_name": "Python 3 (ipykernel)",
   "language": "python",
   "name": "python3"
  },
  "language_info": {
   "codemirror_mode": {
    "name": "ipython",
    "version": 3
   },
   "file_extension": ".py",
   "mimetype": "text/x-python",
   "name": "python",
   "nbconvert_exporter": "python",
   "pygments_lexer": "ipython3",
   "version": "3.9.12"
  }
 },
 "nbformat": 4,
 "nbformat_minor": 4
}
