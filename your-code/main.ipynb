{
 "cells": [
  {
   "cell_type": "markdown",
   "metadata": {},
   "source": [
    "# Before your start:\n",
    "- Read the README.md file\n",
    "- Comment as much as you can and use the resources (README.md file)\n",
    "- Happy learning!"
   ]
  },
  {
   "cell_type": "code",
   "execution_count": 1,
   "metadata": {},
   "outputs": [],
   "source": [
    "# Run this code:\n",
    "\n",
    "%matplotlib inline\n",
    "\n",
    "import matplotlib.pyplot as plt"
   ]
  },
  {
   "cell_type": "code",
   "execution_count": 2,
   "metadata": {},
   "outputs": [],
   "source": [
    "# Import numpy and pandas:\n",
    "\n",
    "import pandas as pd\n",
    "import numpy as np"
   ]
  },
  {
   "cell_type": "markdown",
   "metadata": {},
   "source": [
    "# Challenge 1 - Reading and Standardizing the Data\n",
    "\n",
    "In this challenge we will work with image data and reduce the dimensions of the data to create a 2 dimensional plot. While we have not worked much with image data before, it can be represented as a numpy array where each pixel is assigned a numeric value. In this lesson, we will look at a dataset of cats and a dataset of dogs and see whether reducing them to two dimensions allows us to see if the data is separable. We will start by loading and processing the data. Run the cell below to load the two csv files and convert them into numpy arrays."
   ]
  },
  {
   "cell_type": "code",
   "execution_count": 3,
   "metadata": {},
   "outputs": [],
   "source": [
    "# Run this code\n",
    "\n",
    "cats = np.array(pd.read_csv(\"https://raw.githubusercontent.com/bioramble/pca/master/cat.csv\", header=None))\n",
    "dogs = np.array(pd.read_csv(\"https://raw.githubusercontent.com/bioramble/pca/master/dog.csv\", header=None))"
   ]
  },
  {
   "cell_type": "markdown",
   "metadata": {},
   "source": [
    "Next, we'll examine the shape of both the cats and the dogs arrays. Print out both shapes below."
   ]
  },
  {
   "cell_type": "code",
   "execution_count": 5,
   "metadata": {},
   "outputs": [
    {
     "name": "stdout",
     "output_type": "stream",
     "text": [
      "(4096, 80)\n",
      "(4096, 80)\n"
     ]
    }
   ],
   "source": [
    "# Your code here:\n",
    "\n",
    "print(cats.shape)\n",
    "print(dogs.shape)"
   ]
  },
  {
   "cell_type": "markdown",
   "metadata": {},
   "source": [
    "What this means is that both arrays contain 80 images each (the number of columns). Each image is comprised of 64x64 pixels (so a total of 4096 pixels per image). The images have been flattened such that all 4096 are in a single row.\n",
    "\n",
    "Print out column 0 of the cats array to see what the pixels values look like."
   ]
  },
  {
   "cell_type": "code",
   "execution_count": 8,
   "metadata": {},
   "outputs": [
    {
     "data": {
      "text/plain": [
       "array([ 64,  23, 250, 137,  55, 173,  18, 134,  19,  47, 109, 164,  41,\n",
       "        78, 108, 108, 247, 105, 158,  54, 103,   4,  23, 102, 239,  72,\n",
       "        42,  21, 168, 109, 112, 177,  22, 233,  15, 236, 250, 137,  32,\n",
       "         5, 178, 109,  24, 107,  53, 241, 226, 143,   5, 136,  98, 100,\n",
       "        89,  66, 228,  92, 255,  88, 230,  56, 160,  69,   6,  24, 195,\n",
       "       183, 239,  35, 154, 154, 122,  18,  87, 106, 174,  69,  28,  60,\n",
       "       223, 101], dtype=int64)"
      ]
     },
     "execution_count": 8,
     "metadata": {},
     "output_type": "execute_result"
    }
   ],
   "source": [
    "# Your code here:\n",
    "cats[0]\n"
   ]
  },
  {
   "cell_type": "markdown",
   "metadata": {},
   "source": [
    "Using `matplotlib` we can plot a single cat or a single dog. We do this by reshaping the vector back to a 64x64 image and then using the `imshow` function.\n",
    "\n",
    "Run the code below to look at the first dog and the first cat."
   ]
  },
  {
   "cell_type": "code",
   "execution_count": 9,
   "metadata": {},
   "outputs": [
    {
     "data": {
      "text/plain": [
       "<matplotlib.image.AxesImage at 0x15f9a4f0df0>"
      ]
     },
     "execution_count": 9,
     "metadata": {},
     "output_type": "execute_result"
    },
    {
     "data": {
      "image/png": "[encoded data removed]",
      "text/plain": [
       "<Figure size 432x288 with 1 Axes>"
      ]
     },
     "metadata": {
      "needs_background": "light"
     },
     "output_type": "display_data"
    }
   ],
   "source": [
    "# Run this code:\n",
    "\n",
    "fig, ax = plt.subplots()\n",
    "ax.imshow(cats[:,0].reshape(64, 64).T, cmap=plt.cm.bone, interpolation='nearest') "
   ]
  },
  {
   "cell_type": "code",
   "execution_count": 10,
   "metadata": {},
   "outputs": [
    {
     "data": {
      "text/plain": [
       "<matplotlib.image.AxesImage at 0x15f9a8f27f0>"
      ]
     },
     "execution_count": 10,
     "metadata": {},
     "output_type": "execute_result"
    },
    {
     "data": {
      "image/png": "[encoded data removed]",
      "text/plain": [
       "<Figure size 432x288 with 1 Axes>"
      ]
     },
     "metadata": {
      "needs_background": "light"
     },
     "output_type": "display_data"
    }
   ],
   "source": [
    "# Run this code:\n",
    "\n",
    "fig, ax = plt.subplots()\n",
    "ax.imshow(dogs[:,0].reshape(64, 64).T, cmap=plt.cm.bone, interpolation='nearest') "
   ]
  },
  {
   "cell_type": "markdown",
   "metadata": {},
   "source": [
    "Next, we would like to create a standardization function. This function will find the mean and standard deviation of each image. We subtract the mean from each pixel and divide each pixel by the standard deviation. Write the function below.\n",
    "\n",
    "Hint: To find the mean and standard deviation of each image, use `numpy`'s version of mean and stadnard deviation and use `axis=0`."
   ]
  },
  {
   "cell_type": "code",
   "execution_count": 32,
   "metadata": {},
   "outputs": [],
   "source": [
    "#print(np.mean(np.array([[1,2,3],[4,5,6]]), axis=0))\n",
    "#print(np.std(np.array([[1,2,3],[4,5,6]]), axis=0))\n",
    "#(np.array([[1,2,3],[4,5,6]]) - np.mean(np.array([[1,2,3],[4,5,6]]), axis=0) ) / np.std(np.array([[1,2,3],[4,5,6]]), axis=0)\n",
    "\n",
    "def standardize(x):\n",
    "    #This function takes as input a numpy array and returns a stadardized numpy array of the same dimensions.\n",
    "    #Sample input: np.array([[1,2,3],[4,5,6]])\n",
    "    #Sample output: np.array([[-1,-1,-1],[1,1,1]])\n",
    "    return (x - np.mean(x, axis=0) ) / np.std(x, axis=0)\n",
    "    # Your code here:\n",
    "    "
   ]
  },
  {
   "cell_type": "markdown",
   "metadata": {},
   "source": [
    "Now, use the `np.concatenate` function to combine the cats and dogs arrays. Use `axis=1` to combine the two correctly. Make sure to put dogs first."
   ]
  },
  {
   "cell_type": "code",
   "execution_count": 35,
   "metadata": {},
   "outputs": [
    {
     "data": {
      "text/plain": [
       "array([[224, 131, 127, ...,  60, 223, 101],\n",
       "       [224, 124, 136, ...,  50, 224, 107],\n",
       "       [224, 104, 127, ...,  63, 225, 106],\n",
       "       ...,\n",
       "       [100, 104, 115, ..., 105, 180, 114],\n",
       "       [100, 124, 104, ..., 118, 182,  91],\n",
       "       [100, 124, 104, ..., 104, 177, 113]], dtype=int64)"
      ]
     },
     "execution_count": 35,
     "metadata": {},
     "output_type": "execute_result"
    }
   ],
   "source": [
    "# Your code here:\n",
    "\n",
    "np.concatenate((dogs,cats), axis=1)"
   ]
  },
  {
   "cell_type": "markdown",
   "metadata": {},
   "source": [
    "Standardize the concatenated array below."
   ]
  },
  {
   "cell_type": "code",
   "execution_count": 37,
   "metadata": {},
   "outputs": [],
   "source": [
    "# Your code here:\n",
    "catdog_stand = standardize(np.concatenate((dogs,cats), axis=1))\n"
   ]
  },
  {
   "cell_type": "markdown",
   "metadata": {},
   "source": [
    "# Challenge 2 - Using PCA\n",
    "\n",
    "Now that we have created a standardized matrix of cats and dogs, we'll find the two most important components in the data.\n",
    "\n",
    "Load the `PCA` function from `statsmodels` (read about this function [here](https://www.statsmodels.org/dev/generated/statsmodels.multivariate.pca.PCA.html)) and apply the function to our standarized data. Create a PCA model with two components."
   ]
  },
  {
   "cell_type": "code",
   "execution_count": 47,
   "metadata": {},
   "outputs": [],
   "source": [
    "# Your code here:\n",
    "from sklearn.decomposition import PCA\n",
    "\n",
    "pca = PCA() # creamos una instancia de #PCA\n",
    "pca_ratio = PCA(n_components=2) # creas una instancia de PCA con el numero de componentes definido 2\n",
    "pca_transform_ratio = pca_ratio.fit_transform(catdog_stand) #normalizas y estandarizas los datos para el numero de componentes definido y se centran en 0"
   ]
  },
  {
   "cell_type": "markdown",
   "metadata": {},
   "source": [
    "Use `numpy` to find to transpose the standardized pet array. This will help us compute the projection."
   ]
  },
  {
   "cell_type": "code",
   "execution_count": 46,
   "metadata": {},
   "outputs": [
    {
     "data": {
      "text/plain": [
       "array([[ 2.37662907,  2.37662907,  2.37662907, ...,  0.22755315,\n",
       "         0.22755315,  0.22755315],\n",
       "       [-0.30753004, -0.40500299, -0.68349716, ..., -0.68349716,\n",
       "        -0.40500299, -0.40500299],\n",
       "       [ 0.93254857,  1.15681724,  0.93254857, ...,  0.63352369,\n",
       "         0.35941754,  0.35941754],\n",
       "       ...,\n",
       "       [-1.80817356, -2.06459792, -1.73124626, ..., -0.65426398,\n",
       "        -0.32091232, -0.67990641],\n",
       "       [ 1.42293481,  1.44036713,  1.45779946, ...,  0.67334483,\n",
       "         0.70820948,  0.62104786],\n",
       "       [-0.20363951, -0.05437635, -0.07925354, ...,  0.11976401,\n",
       "        -0.45241144,  0.09488681]])"
      ]
     },
     "execution_count": 46,
     "metadata": {},
     "output_type": "execute_result"
    }
   ],
   "source": [
    "# Your code here:\n",
    "#pca_transform_ratio = pca_ratio.fit_transform(catdog_stand) #normalizas y estandarizas los datos para el numero de componentes definido y se centran en 0\n",
    "catdog_stand_transp = np.transpose(catdog_stand)\n",
    "catdog_stand_transp"
   ]
  },
  {
   "cell_type": "markdown",
   "metadata": {},
   "source": [
    "Find the dot product of the transposed standardized pet matrix and the `factors` of the `PCA` model found above. This will be the projection onto 2 dimensions. This means that each cat and dog image will now only have two columns instead of 4096."
   ]
  },
  {
   "cell_type": "code",
   "execution_count": 50,
   "metadata": {},
   "outputs": [
    {
     "data": {
      "text/plain": [
       "array([[ 14348.51399348,  -3981.25903117],\n",
       "       [ 10873.0227794 ,   5211.5096445 ],\n",
       "       [ -4378.84806728,   4874.92216598],\n",
       "       [  1717.00749013,   8914.44304061],\n",
       "       [ 11101.88402335,  -1114.37059022],\n",
       "       [ -2968.69198942,  12223.60246849],\n",
       "       [  7483.06169448,   3579.58859416],\n",
       "       [  4833.63698994,  10566.11871711],\n",
       "       [  4191.47397876,  10471.82336627],\n",
       "       [ 13334.74079014,   -597.04208458],\n",
       "       [   118.38417511,   9615.53022197],\n",
       "       [  7355.88381057,   4776.33003701],\n",
       "       [  2874.48880471,   4525.68917269],\n",
       "       [ -1033.48459258,   4864.29748073],\n",
       "       [  6479.84263423,   8603.57292921],\n",
       "       [  5938.77319064,   9088.02907474],\n",
       "       [  5412.98957593,   2248.43985817],\n",
       "       [ 13186.93810592,   5746.19284474],\n",
       "       [  6217.39369001,   7773.48492036],\n",
       "       [  5259.36312567,  12111.02606085],\n",
       "       [ -1224.55683495,   9684.24313468],\n",
       "       [   545.64286185,  10373.06388881],\n",
       "       [  3317.29727724,   4130.01643333],\n",
       "       [  4008.83805329,  11060.20416456],\n",
       "       [  9166.8985079 ,   8303.43545969],\n",
       "       [    76.7980824 ,  11712.3452423 ],\n",
       "       [ -1253.36451731,   7792.92152981],\n",
       "       [   301.47688772,   6195.38078771],\n",
       "       [  4596.5503279 ,  12812.53036563],\n",
       "       [  3279.02469092,   6686.88563871],\n",
       "       [  1618.32762864,   8292.4325748 ],\n",
       "       [  2496.62005808,   7304.55499366],\n",
       "       [ 10175.68547831,   7913.18331318],\n",
       "       [  4459.79672668,   9600.56817276],\n",
       "       [ -2453.70337876,  10334.52648441],\n",
       "       [  5357.5866738 ,   4019.74214563],\n",
       "       [ -4797.73246453,  10256.30211782],\n",
       "       [   475.36593483,   8548.30947847],\n",
       "       [ -2221.68608674,  11645.36350622],\n",
       "       [  9681.73487383,   5150.36967605],\n",
       "       [  5759.53697938,  10855.03666708],\n",
       "       [  3876.90017032,  -4513.32790928],\n",
       "       [ -3402.68769366,   8888.40755113],\n",
       "       [  5129.89281614,   7336.80852625],\n",
       "       [ -2722.85194027,   4363.92512793],\n",
       "       [  6834.33742427,  -6062.08187196],\n",
       "       [  8975.72410624,  -2271.50587395],\n",
       "       [  2350.51427032,   2165.33361409],\n",
       "       [  5151.35680806,  -3191.8547651 ],\n",
       "       [ -5578.66852704,   9319.56457984],\n",
       "       [  9957.54403401,  -2996.33611358],\n",
       "       [ 12384.19420062,  -7237.63141462],\n",
       "       [  2065.89275125,  -4095.95823586],\n",
       "       [ -7365.23127901,  10883.19356441],\n",
       "       [ -7290.94745747,   1344.72658682],\n",
       "       [ -4730.48422931,   1014.13409499],\n",
       "       [  9846.61142697,  -1684.84048932],\n",
       "       [  5013.19113963,  -3296.67923711],\n",
       "       [ -5624.1530006 ,   7272.0639947 ],\n",
       "       [  -699.72885498,   8205.26753485],\n",
       "       [  2615.24347683,  10581.20827282],\n",
       "       [ 10477.51866195,  -5809.03442919],\n",
       "       [ 10474.39334601,  -1491.34643277],\n",
       "       [ -7749.79941968,   -796.22490537],\n",
       "       [ -3611.89056877,   2412.14426694],\n",
       "       [  9229.22897625,     31.48495152],\n",
       "       [  1714.21649792,  -5943.16036792],\n",
       "       [-10885.35620277,   3089.94412921],\n",
       "       [  -777.33567664,    882.97267276],\n",
       "       [  7654.98781286,   7829.01575617],\n",
       "       [ -3583.33542781,   3181.29224197],\n",
       "       [  -340.3094995 ,   8636.10210554],\n",
       "       [  8924.04367764,   6849.4432786 ],\n",
       "       [ -7119.16638501,   6520.90380184],\n",
       "       [  3469.77544611,  -6771.40391749],\n",
       "       [ 13467.53786965,  -1589.17444149],\n",
       "       [ 11225.06256423,   2345.05967707],\n",
       "       [ -2797.49542378,   9367.54984358],\n",
       "       [ -1132.22320512,   8977.37857346],\n",
       "       [ 13177.99794439,   -724.34613051],\n",
       "       [ -5288.22172926,  -3846.21480899],\n",
       "       [-16785.39557457,   -276.00961227],\n",
       "       [ 16270.0100542 ,  -1015.14524449],\n",
       "       [ 13851.78933538,    361.36855238],\n",
       "       [-10194.47700154,  -4735.15752313],\n",
       "       [ -7049.21630762,  -8906.64193155],\n",
       "       [-13986.21256664,    802.51177832],\n",
       "       [ -1761.11814583,  -4594.98041021],\n",
       "       [-14309.89244831,  -2060.97063173],\n",
       "       [ -7107.81973456,  -4658.84872576],\n",
       "       [    21.97223381,  -1258.96078978],\n",
       "       [  1945.92809469,  -1193.80105046],\n",
       "       [-17497.27387305,  -2678.72030178],\n",
       "       [-10242.61539429,  -3220.40726729],\n",
       "       [  9761.44071948,  -3721.68955604],\n",
       "       [-13228.27940974,  -4448.49618022],\n",
       "       [  9780.37388277,  -2950.13381232],\n",
       "       [-11229.56461214,  -2833.97015434],\n",
       "       [ 14468.45336543,    213.89599884],\n",
       "       [-17092.00228845,  -1336.11152114],\n",
       "       [  3709.03987461,  -3305.85091639],\n",
       "       [-12002.49701829,    504.80318991],\n",
       "       [-11997.64948037,   3527.45749203],\n",
       "       [-11495.59262731,   8686.63580538],\n",
       "       [ 17430.58130409,  -1590.07441584],\n",
       "       [ -2377.41032672,   5857.83231273],\n",
       "       [-11805.90371063,  -4871.48034144],\n",
       "       [-10667.36555363,   4920.69329146],\n",
       "       [  7227.4762415 ,   -676.75278052],\n",
       "       [ -7056.4939019 ,  -2816.93895428],\n",
       "       [  -827.69216938,  -4509.30466655],\n",
       "       [  4180.22794764,  -4176.51679247],\n",
       "       [ -6233.48262159,  -8005.23484863],\n",
       "       [ 17881.12663795,  -3025.22132182],\n",
       "       [-17265.18161554,    565.43921545],\n",
       "       [ -2565.78362827,   3234.98670188],\n",
       "       [ 17052.83212018,    519.08222736],\n",
       "       [-14522.42863882,  -2136.85193932],\n",
       "       [ -7077.75134203,   5503.67333511],\n",
       "       [ -5248.87173323,  -3876.33874052],\n",
       "       [ -2473.65527818,  -5266.9781899 ],\n",
       "       [ -9167.89431831,  -4908.81849896],\n",
       "       [-18395.78573454,   3924.76628984],\n",
       "       [-10813.44119413,   5573.04078459],\n",
       "       [-17509.76641035,   5089.75146712],\n",
       "       [ 11302.36683412,  -4028.95290813],\n",
       "       [ 11510.07585107,   1220.12961152],\n",
       "       [  9694.41646837,  -2679.95702582],\n",
       "       [-17134.01629506,   1324.82006214],\n",
       "       [   404.94365786,  -2287.77778675],\n",
       "       [ -8433.06122504,  -4088.45340681],\n",
       "       [ -5376.37068221,   3195.48676774],\n",
       "       [-15589.91311933,  -4216.63841737],\n",
       "       [-12168.29873742,  -3578.51059256],\n",
       "       [  6274.43794793,  -5539.79235222],\n",
       "       [-13139.25598006,  -4849.39658731],\n",
       "       [-12272.45792165,  -5969.00723308],\n",
       "       [ -6590.70335893,   2501.37743126],\n",
       "       [ 11135.50816362,  -7493.70312527],\n",
       "       [ -7340.14553953,   9242.91827575],\n",
       "       [  -586.75886692,    325.61920144],\n",
       "       [ -7224.10924097,  -3839.57548092],\n",
       "       [-13343.09903824,  -2831.36808537],\n",
       "       [-14208.55738746,   2966.08267318],\n",
       "       [  8477.91988002,   -645.24262375],\n",
       "       [ -2376.70332433,  -4996.24302582],\n",
       "       [ 17235.50409806,  -2079.06071041],\n",
       "       [ -1213.02145852,    110.15826465],\n",
       "       [  7514.965531  ,  -1770.78873796],\n",
       "       [ 11034.72202391,   1242.03390061],\n",
       "       [  5308.59648719,   -975.06425111],\n",
       "       [-11831.50674478,   3244.82684188],\n",
       "       [ -3711.99457729,  -3907.36220717],\n",
       "       [   677.47308669,   1036.97424444],\n",
       "       [  3745.53806126,    178.5447852 ],\n",
       "       [ -9083.16429046,   5162.86608765],\n",
       "       [-11127.61801511,   6407.59458183],\n",
       "       [-15434.30444332,   3475.0756541 ],\n",
       "       [  5767.39033145,   1036.51675934],\n",
       "       [ -2729.02760911,  -3500.99682109]])"
      ]
     },
     "execution_count": 50,
     "metadata": {},
     "output_type": "execute_result"
    }
   ],
   "source": [
    "# Your code here:\n",
    "catdof_dot = np.dot(catdog_stand_transp, pca_transform_ratio)\n",
    "catdof_dot\n"
   ]
  },
  {
   "cell_type": "markdown",
   "metadata": {},
   "source": [
    "# Challenge 3 - Plotting the Data\n",
    "\n",
    "Now that we have reduced our cats and dogs arrays, we can easily plot the data in a way that the human eye can understand. We can look at this plot to see whether there are differences between the cat and dog images. \n",
    "\n",
    "In the cell below, turn the two dimensional projection into a pandas dataframe and name the columns `pc1`, and `pc2` respectively."
   ]
  },
  {
   "cell_type": "code",
   "execution_count": 51,
   "metadata": {},
   "outputs": [],
   "source": [
    "# Your code here:\n",
    "df_catdog = pd.DataFrame(catdof_dot, columns=['pc1','pc2'])\n"
   ]
  },
  {
   "cell_type": "markdown",
   "metadata": {},
   "source": [
    "Create a labels list. This list will be of size 160. The first 80 elements in the list will be the word `blue`, and the last 80 elements will be `red`. This will ensure that all dog observations will be colored in blue and all cats will be colored in red. Name this list `colors`."
   ]
  },
  {
   "cell_type": "code",
   "execution_count": null,
   "metadata": {},
   "outputs": [],
   "source": [
    "# Your code here:\n",
    "colors = ['blue' if x < 60 else 'red' for x in range(160)]\n",
    "colors\n"
   ]
  },
  {
   "cell_type": "markdown",
   "metadata": {},
   "source": [
    "Create a scatter plot of `pc1` and `pc2` below. Use the `colors` list above to color the observations by setting `c=colors`."
   ]
  },
  {
   "cell_type": "code",
   "execution_count": 56,
   "metadata": {},
   "outputs": [
    {
     "data": {
      "text/plain": [
       "<matplotlib.collections.PathCollection at 0x15fae5ca3a0>"
      ]
     },
     "execution_count": 56,
     "metadata": {},
     "output_type": "execute_result"
    },
    {
     "data": {
      "image/png": "[encoded data removed]",
      "text/plain": [
       "<Figure size 432x288 with 1 Axes>"
      ]
     },
     "metadata": {
      "needs_background": "light"
     },
     "output_type": "display_data"
    }
   ],
   "source": [
    "# Your code here:\n",
    "plt.scatter(df_catdog.pc1, df_catdog.pc2,c=colors)\n"
   ]
  },
  {
   "cell_type": "markdown",
   "metadata": {},
   "source": [
    "Do you see a clear separation between cats and dogs? Write your answer below."
   ]
  },
  {
   "cell_type": "code",
   "execution_count": 18,
   "metadata": {},
   "outputs": [],
   "source": [
    "# Your conclusions here:\n",
    "#no I do not, points are spread in the plot, we are able to see which values are from dogs and cats but a separation betweeen them no. \n"
   ]
  },
  {
   "cell_type": "code",
   "execution_count": null,
   "metadata": {},
   "outputs": [],
   "source": []
  }
 ],
 "metadata": {
  "kernelspec": {
   "display_name": "Python 3",
   "language": "python",
   "name": "python3"
  },
  "language_info": {
   "codemirror_mode": {
    "name": "ipython",
    "version": 3
   },
   "file_extension": ".py",
   "mimetype": "text/x-python",
   "name": "python",
   "nbconvert_exporter": "python",
   "pygments_lexer": "ipython3",
   "version": "3.9.7"
  }
 },
 "nbformat": 4,
 "nbformat_minor": 2
}
