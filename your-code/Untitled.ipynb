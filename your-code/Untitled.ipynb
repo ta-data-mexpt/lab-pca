{
 "cells": [
  {
   "cell_type": "code",
   "execution_count": 1,
   "id": "72b1f538-e007-4ceb-9e60-f5e2c7243f85",
   "metadata": {},
   "outputs": [
    {
     "ename": "ModuleNotFoundError",
     "evalue": "No module named 'lifelines'",
     "output_type": "error",
     "traceback": [
      "\u001b[1;31m---------------------------------------------------------------------------\u001b[0m",
      "\u001b[1;31mModuleNotFoundError\u001b[0m                       Traceback (most recent call last)",
      "\u001b[1;32m<ipython-input-1-72377d525086>\u001b[0m in \u001b[0;36m<module>\u001b[1;34m\u001b[0m\n\u001b[0;32m      4\u001b[0m \u001b[1;32mimport\u001b[0m \u001b[0mseaborn\u001b[0m \u001b[1;32mas\u001b[0m \u001b[0msns\u001b[0m\u001b[1;33m\u001b[0m\u001b[1;33m\u001b[0m\u001b[0m\n\u001b[0;32m      5\u001b[0m \u001b[1;33m\u001b[0m\u001b[0m\n\u001b[1;32m----> 6\u001b[1;33m \u001b[1;32mfrom\u001b[0m \u001b[0mlifelines\u001b[0m \u001b[1;32mimport\u001b[0m \u001b[0mKaplanMeierFitter\u001b[0m\u001b[1;33m\u001b[0m\u001b[1;33m\u001b[0m\u001b[0m\n\u001b[0m\u001b[0;32m      7\u001b[0m \u001b[1;32mfrom\u001b[0m \u001b[0mlifelines\u001b[0m\u001b[1;33m.\u001b[0m\u001b[0mstatistics\u001b[0m \u001b[1;32mimport\u001b[0m \u001b[0mlogrank_test\u001b[0m\u001b[1;33m\u001b[0m\u001b[1;33m\u001b[0m\u001b[0m\n\u001b[0;32m      8\u001b[0m \u001b[1;33m\u001b[0m\u001b[0m\n",
      "\u001b[1;31mModuleNotFoundError\u001b[0m: No module named 'lifelines'"
     ]
    }
   ],
   "source": [
    "import pandas as pd\n",
    "import plotly\n",
    "import matplotlib.pyplot as plt\n",
    "import seaborn as sns\n",
    "\n",
    "from lifelines import KaplanMeierFitter\n",
    "from lifelines.statistics import logrank_test\n",
    "\n",
    "from google.colab import drive\n",
    "\n",
    "pd.options.plotting.backend = 'plotly'\n"
   ]
  },
  {
   "cell_type": "code",
   "execution_count": 2,
   "id": "28571578-190b-4b14-b6fb-802b871bf8c5",
   "metadata": {},
   "outputs": [
    {
     "name": "stdout",
     "output_type": "stream",
     "text": [
      "Collecting lifelines\n",
      "  Downloading lifelines-0.27.1-py3-none-any.whl (349 kB)\n",
      "Collecting formulaic>=0.2.2\n",
      "  Downloading formulaic-0.3.4-py3-none-any.whl (68 kB)\n",
      "Requirement already satisfied: numpy>=1.14.0 in c:\\users\\jfcon\\anaconda3\\lib\\site-packages (from lifelines) (1.20.1)\n",
      "Collecting autograd-gamma>=0.3\n",
      "  Downloading autograd-gamma-0.5.0.tar.gz (4.0 kB)\n",
      "Requirement already satisfied: scipy>=1.2.0 in c:\\users\\jfcon\\anaconda3\\lib\\site-packages (from lifelines) (1.6.2)\n",
      "Requirement already satisfied: matplotlib>=3.0 in c:\\users\\jfcon\\anaconda3\\lib\\site-packages (from lifelines) (3.3.4)\n",
      "Requirement already satisfied: pandas>=1.0.0 in c:\\users\\jfcon\\anaconda3\\lib\\site-packages (from lifelines) (1.2.4)\n",
      "Collecting autograd>=1.3\n",
      "  Downloading autograd-1.4-py3-none-any.whl (48 kB)\n",
      "Requirement already satisfied: future>=0.15.2 in c:\\users\\jfcon\\anaconda3\\lib\\site-packages (from autograd>=1.3->lifelines) (0.18.2)\n",
      "Collecting interface-meta<2.0.0,>=1.2.0\n",
      "  Downloading interface_meta-1.3.0-py3-none-any.whl (14 kB)\n",
      "Requirement already satisfied: wrapt>=1.0 in c:\\users\\jfcon\\anaconda3\\lib\\site-packages (from formulaic>=0.2.2->lifelines) (1.12.1)\n",
      "Collecting astor>=0.8\n",
      "  Downloading astor-0.8.1-py2.py3-none-any.whl (27 kB)\n",
      "Requirement already satisfied: python-dateutil>=2.1 in c:\\users\\jfcon\\anaconda3\\lib\\site-packages (from matplotlib>=3.0->lifelines) (2.8.1)\n",
      "Requirement already satisfied: cycler>=0.10 in c:\\users\\jfcon\\anaconda3\\lib\\site-packages (from matplotlib>=3.0->lifelines) (0.10.0)\n",
      "Requirement already satisfied: pyparsing!=2.0.4,!=2.1.2,!=2.1.6,>=2.0.3 in c:\\users\\jfcon\\anaconda3\\lib\\site-packages (from matplotlib>=3.0->lifelines) (2.4.7)\n",
      "Requirement already satisfied: kiwisolver>=1.0.1 in c:\\users\\jfcon\\anaconda3\\lib\\site-packages (from matplotlib>=3.0->lifelines) (1.3.1)\n",
      "Requirement already satisfied: pillow>=6.2.0 in c:\\users\\jfcon\\anaconda3\\lib\\site-packages (from matplotlib>=3.0->lifelines) (8.2.0)\n",
      "Requirement already satisfied: six in c:\\users\\jfcon\\anaconda3\\lib\\site-packages (from cycler>=0.10->matplotlib>=3.0->lifelines) (1.15.0)\n",
      "Requirement already satisfied: pytz>=2017.3 in c:\\users\\jfcon\\anaconda3\\lib\\site-packages (from pandas>=1.0.0->lifelines) (2021.1)\n",
      "Building wheels for collected packages: autograd-gamma\n",
      "  Building wheel for autograd-gamma (setup.py): started\n",
      "  Building wheel for autograd-gamma (setup.py): finished with status 'done'\n",
      "  Created wheel for autograd-gamma: filename=autograd_gamma-0.5.0-py3-none-any.whl size=4034 sha256=711b1b7f3f622385731c097a9f6b49bef04ce65d579dc97df6ee67acfecc3134\n",
      "  Stored in directory: c:\\users\\jfcon\\appdata\\local\\pip\\cache\\wheels\\16\\a2\\b6\\582cfdfbeeccd469504a01af3bb952fd9e7eccba40995eafea\n",
      "Successfully built autograd-gamma\n",
      "Installing collected packages: interface-meta, autograd, astor, formulaic, autograd-gamma, lifelines\n",
      "Successfully installed astor-0.8.1 autograd-1.4 autograd-gamma-0.5.0 formulaic-0.3.4 interface-meta-1.3.0 lifelines-0.27.1\n",
      "Note: you may need to restart the kernel to use updated packages.\n"
     ]
    }
   ],
   "source": [
    "pip install lifelines"
   ]
  },
  {
   "cell_type": "code",
   "execution_count": null,
   "id": "c3df2371-1ef7-427a-bd27-89a209e8827e",
   "metadata": {},
   "outputs": [],
   "source": []
  }
 ],
 "metadata": {
  "kernelspec": {
   "display_name": "Python 3",
   "language": "python",
   "name": "python3"
  },
  "language_info": {
   "codemirror_mode": {
    "name": "ipython",
    "version": 3
   },
   "file_extension": ".py",
   "mimetype": "text/x-python",
   "name": "python",
   "nbconvert_exporter": "python",
   "pygments_lexer": "ipython3",
   "version": "3.8.8"
  }
 },
 "nbformat": 4,
 "nbformat_minor": 5
}
